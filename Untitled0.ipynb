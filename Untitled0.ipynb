{
  "nbformat": 4,
  "nbformat_minor": 0,
  "metadata": {
    "colab": {
      "provenance": [],
      "authorship_tag": "ABX9TyOj6nf6Hlmz24nrH45Ok3d/",
      "include_colab_link": true
    },
    "kernelspec": {
      "name": "python3",
      "display_name": "Python 3"
    },
    "language_info": {
      "name": "python"
    }
  },
  "cells": [
    {
      "cell_type": "markdown",
      "metadata": {
        "id": "view-in-github",
        "colab_type": "text"
      },
      "source": [
        "<a href=\"https://colab.research.google.com/github/HoganDouglas/sample-cloud-native-toolchain-tutorial-20201110110745231/blob/master/Untitled0.ipynb\" target=\"_parent\"><img src=\"https://colab.research.google.com/assets/colab-badge.svg\" alt=\"Open In Colab\"/></a>"
      ]
    },
    {
      "cell_type": "code",
      "execution_count": 1,
      "metadata": {
        "id": "gBIGYk4JMWxP"
      },
      "outputs": [],
      "source": [
        "import pandas as pd\n",
        "import re\n",
        "import string\n",
        "import collections\n",
        "import matplotlib.pyplot as plt\n",
        "\n",
        "import nltk\n",
        "from nltk.corpus import stopwords\n",
        "from nltk.tokenize import word_tokenize\n",
        "from nltk.stem import WordNetLemmatizer, SnowballStemmer\n",
        "\n",
        "import tensorflow as tf\n",
        "from tensorflow.keras.layers import Embedding, Dense, GlobalAveragePooling1D\n",
        "from tensorflow.keras.preprocessing.text import Tokenizer\n",
        "from tensorflow.keras.preprocessing.sequence import pad_sequences"
      ]
    },
    {
      "cell_type": "code",
      "source": [
        "\n",
        "\n",
        "df_train = pd.read_csv('/content/sample_data/mnist_test.csv')\n",
        "df_test = pd.read_csv('/content/sample_data/mnist_test.csv')\n",
        "\n"
      ],
      "metadata": {
        "id": "k-Nch9acNDgp"
      },
      "execution_count": 2,
      "outputs": []
    },
    {
      "cell_type": "code",
      "source": [
        "print (df_test)"
      ],
      "metadata": {
        "colab": {
          "base_uri": "https://localhost:8080/"
        },
        "id": "hh8EVFrKNyd4",
        "outputId": "bb2d2b8e-75fd-49b4-c250-58d6c25b0f59"
      },
      "execution_count": 5,
      "outputs": [
        {
          "output_type": "stream",
          "name": "stdout",
          "text": [
            "      7  0  0.1  0.2  0.3  0.4  0.5  0.6  0.7  0.8  ...  0.658  0.659  0.660  \\\n",
            "0     2  0    0    0    0    0    0    0    0    0  ...      0      0      0   \n",
            "1     1  0    0    0    0    0    0    0    0    0  ...      0      0      0   \n",
            "2     0  0    0    0    0    0    0    0    0    0  ...      0      0      0   \n",
            "3     4  0    0    0    0    0    0    0    0    0  ...      0      0      0   \n",
            "4     1  0    0    0    0    0    0    0    0    0  ...      0      0      0   \n",
            "...  .. ..  ...  ...  ...  ...  ...  ...  ...  ...  ...    ...    ...    ...   \n",
            "9994  2  0    0    0    0    0    0    0    0    0  ...      0      0      0   \n",
            "9995  3  0    0    0    0    0    0    0    0    0  ...      0      0      0   \n",
            "9996  4  0    0    0    0    0    0    0    0    0  ...      0      0      0   \n",
            "9997  5  0    0    0    0    0    0    0    0    0  ...      0      0      0   \n",
            "9998  6  0    0    0    0    0    0    0    0    0  ...      0      0      0   \n",
            "\n",
            "      0.661  0.662  0.663  0.664  0.665  0.666  0.667  \n",
            "0         0      0      0      0      0      0      0  \n",
            "1         0      0      0      0      0      0      0  \n",
            "2         0      0      0      0      0      0      0  \n",
            "3         0      0      0      0      0      0      0  \n",
            "4         0      0      0      0      0      0      0  \n",
            "...     ...    ...    ...    ...    ...    ...    ...  \n",
            "9994      0      0      0      0      0      0      0  \n",
            "9995      0      0      0      0      0      0      0  \n",
            "9996      0      0      0      0      0      0      0  \n",
            "9997      0      0      0      0      0      0      0  \n",
            "9998      0      0      0      0      0      0      0  \n",
            "\n",
            "[9999 rows x 785 columns]\n"
          ]
        }
      ]
    }
  ]
}